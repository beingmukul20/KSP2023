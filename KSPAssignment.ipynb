{
  "nbformat": 4,
  "nbformat_minor": 0,
  "metadata": {
    "colab": {
      "provenance": [],
      "authorship_tag": "ABX9TyNWH+8Jd0ef431vhp/Oc9+6",
      "include_colab_link": true
    },
    "kernelspec": {
      "name": "python3",
      "display_name": "Python 3"
    },
    "language_info": {
      "name": "python"
    }
  },
  "cells": [
    {
      "cell_type": "markdown",
      "metadata": {
        "id": "view-in-github",
        "colab_type": "text"
      },
      "source": [
        "<a href=\"https://colab.research.google.com/github/beingmukul20/KSP2023/blob/main/KSPAssignment.ipynb\" target=\"_parent\"><img src=\"https://colab.research.google.com/assets/colab-badge.svg\" alt=\"Open In Colab\"/></a>"
      ]
    },
    {
      "cell_type": "markdown",
      "source": [
        "The following file(darkmatter.csv) contains observation data of the stars, a small section of which belong to the galaxy KriGal. Open the file and take a look to get an idea of what observations were made. Such data for stars this far are in practice impossible to measure with such precision, but were made possible for the first time in the history of space observation with KIT (Krittika's Incredible Telescope).\n",
        "\n",
        "It is known the galaxy's centre has (RA, Dec) = \n",
        "\n",
        "Open the CSV file, find the relative RA/Dec difference of each star w.r.t. the galaxy's centre and convert all data to SI units - would be handy later on."
      ],
      "metadata": {
        "id": "uIXkMVzKPWwr"
      }
    },
    {
      "cell_type": "code",
      "source": [
        "import numpy as np\n",
        "\n",
        "# define the coordinates of the galaxy center in degrees\n",
        "galaxy_center_ra = 266.41683\n",
        "galaxy_center_dec = -29.00781\n",
        "\n",
        "# define the coordinates of the stars in degrees\n",
        "star_ra = np.array([266.41683, 266.40468, 266.41143, 266.40093])\n",
        "star_dec = np.array([-29.00781, -28.91934, -28.93200, -28.90080])\n",
        "\n",
        "# convert all coordinates to radians\n",
        "galaxy_center_ra = np.radians(galaxy_center_ra)\n",
        "galaxy_center_dec = np.radians(galaxy_center_dec)\n",
        "star_ra = np.radians(star_ra)\n",
        "star_dec = np.radians(star_dec)\n",
        "\n",
        "# find the relative RA/Dec difference of each star with respect to the galaxy center\n",
        "relative_ra = star_ra - galaxy_center_ra\n",
        "relative_dec = star_dec - galaxy_center_dec\n",
        "\n",
        "# convert all data to SI units\n",
        "relative_ra = relative_ra * 3600 * np.cos(galaxy_center_dec)\n",
        "relative_dec = relative_dec * 3600\n",
        "\n",
        "# print the results\n",
        "print(\"Relative RA difference:\", relative_ra, \"arcsec\")\n",
        "print(\"Relative Dec difference:\", relative_dec, \"arcsec\")\n"
      ],
      "metadata": {
        "colab": {
          "base_uri": "https://localhost:8080/"
        },
        "id": "y92oludEPGBI",
        "outputId": "2af47eff-f16f-4fa8-a179-e1f3e98a0643"
      },
      "execution_count": 1,
      "outputs": [
        {
          "output_type": "stream",
          "name": "stdout",
          "text": [
            "Relative RA difference: [ 0.         -0.66764036 -0.29672905 -0.8737022 ] arcsec\n",
            "Relative Dec difference: [0.         5.55873404 4.76328278 6.7236366 ] arcsec\n"
          ]
        }
      ]
    },
    {
      "cell_type": "markdown",
      "source": [
        "Assume the galaxy is 3500 kpc (kiloparsecs) away and the centre of galaxy moves according to Hubble's law (H = \n",
        " km/s/Mpc). Note that the redshift \n",
        " is related to the radial velocity of any object as\n",
        "\n",
        " \n",
        "where \n",
        " = speed of light, and \n",
        " = velocity of object, taken positive when object moves away from us.\n",
        "\n",
        "Also 1 parsec = \n",
        " metres\n",
        "\n",
        "Using this, find the relative radial velocities of the stars w.r.t. the centre of galaxy"
      ],
      "metadata": {
        "id": "FkPpPBFoPSLZ"
      }
    },
    {
      "cell_type": "code",
      "source": [
        "import numpy as np\n",
        "\n",
        "# Constants\n",
        "c = 299792458  # speed of light in m/s\n",
        "H0 = 70        # Hubble's constant in km/s/Mpc\n",
        "Mpc = 3.08567758e22  # 1 Mpc in meters\n",
        "kpc = 3.08567758e19  # 1 kpc in meters\n",
        "\n",
        "# Distance to galaxy in meters\n",
        "d = 3500 * kpc\n",
        "\n",
        "# Relative radial velocities\n",
        "v_radial = c * np.sqrt((d * H0 / (c * Mpc))**2 + 2 * d * H0 / c) * (z + 1) - c\n",
        "\n"
      ],
      "metadata": {
        "colab": {
          "base_uri": "https://localhost:8080/",
          "height": 225
        },
        "id": "pusU06auPKGS",
        "outputId": "711b255c-76f0-42b7-d2ac-04e404efdb6e"
      },
      "execution_count": 2,
      "outputs": [
        {
          "output_type": "error",
          "ename": "NameError",
          "evalue": "ignored",
          "traceback": [
            "\u001b[0;31m---------------------------------------------------------------------------\u001b[0m",
            "\u001b[0;31mNameError\u001b[0m                                 Traceback (most recent call last)",
            "\u001b[0;32m<ipython-input-2-672f0c4ea931>\u001b[0m in \u001b[0;36m<cell line: 13>\u001b[0;34m()\u001b[0m\n\u001b[1;32m     11\u001b[0m \u001b[0;34m\u001b[0m\u001b[0m\n\u001b[1;32m     12\u001b[0m \u001b[0;31m# Relative radial velocities\u001b[0m\u001b[0;34m\u001b[0m\u001b[0;34m\u001b[0m\u001b[0m\n\u001b[0;32m---> 13\u001b[0;31m \u001b[0mv_radial\u001b[0m \u001b[0;34m=\u001b[0m \u001b[0mc\u001b[0m \u001b[0;34m*\u001b[0m \u001b[0mnp\u001b[0m\u001b[0;34m.\u001b[0m\u001b[0msqrt\u001b[0m\u001b[0;34m(\u001b[0m\u001b[0;34m(\u001b[0m\u001b[0md\u001b[0m \u001b[0;34m*\u001b[0m \u001b[0mH0\u001b[0m \u001b[0;34m/\u001b[0m \u001b[0;34m(\u001b[0m\u001b[0mc\u001b[0m \u001b[0;34m*\u001b[0m \u001b[0mMpc\u001b[0m\u001b[0;34m)\u001b[0m\u001b[0;34m)\u001b[0m\u001b[0;34m**\u001b[0m\u001b[0;36m2\u001b[0m \u001b[0;34m+\u001b[0m \u001b[0;36m2\u001b[0m \u001b[0;34m*\u001b[0m \u001b[0md\u001b[0m \u001b[0;34m*\u001b[0m \u001b[0mH0\u001b[0m \u001b[0;34m/\u001b[0m \u001b[0mc\u001b[0m\u001b[0;34m)\u001b[0m \u001b[0;34m*\u001b[0m \u001b[0;34m(\u001b[0m\u001b[0mz\u001b[0m \u001b[0;34m+\u001b[0m \u001b[0;36m1\u001b[0m\u001b[0;34m)\u001b[0m \u001b[0;34m-\u001b[0m \u001b[0mc\u001b[0m\u001b[0;34m\u001b[0m\u001b[0;34m\u001b[0m\u001b[0m\n\u001b[0m\u001b[1;32m     14\u001b[0m \u001b[0;34m\u001b[0m\u001b[0m\n",
            "\u001b[0;31mNameError\u001b[0m: name 'z' is not defined"
          ]
        }
      ]
    },
    {
      "cell_type": "markdown",
      "source": [
        "Use the previous information to find the tangential velocities of the stars.\n",
        "\n",
        "Assume the stars move in perfectly circular orbits and we view the galaxy edge-on i.e. to us the star trajectories appear like line segments."
      ],
      "metadata": {
        "id": "cmNdF4IaPyFS"
      }
    },
    {
      "cell_type": "code",
      "source": [
        "import numpy as np\n",
        "\n",
        "# assume a typical value for the inclination angle of an edge-on galaxy\n",
        "i = 90\n",
        "\n",
        "# convert distance to metres\n",
        "d_m = d * 3.086e19\n",
        "\n",
        "# calculate radius of orbit\n",
        "r = np.sqrt(d_m**2 - (d_m * np.cos(np.deg2rad(i)))**2)\n",
        "\n",
        "# convert Hubble's constant to SI units\n",
        "H_si = H * 1000 / 3.086e19\n",
        "\n",
        "# calculate period of orbit\n",
        "T = 2 * np.pi * r / (v_rad * 1000 + H_si * d_m)\n",
        "\n",
        "# calculate angular velocity\n",
        "w = 2 * np.pi / T\n",
        "\n",
        "# calculate tangential velocity\n",
        "v_tan = r * w\n",
        "\n",
        "# convert tangential velocity to km/s\n",
        "v_tan /= 1000\n",
        "\n"
      ],
      "metadata": {
        "id": "qGOTMhXAQGeC"
      },
      "execution_count": null,
      "outputs": []
    },
    {
      "cell_type": "markdown",
      "source": [
        "\n",
        "Now find the angular separation from galaxy centre to each star and use that to find the tangential separation (in length units) from the galaxy centre."
      ],
      "metadata": {
        "id": "GM4BgDiQQKkt"
      }
    },
    {
      "cell_type": "code",
      "source": [
        "# convert distance from galaxy center to SI units (meters)\n",
        "distances_SI = np.array(distances) * 3.0857e+19\n",
        "\n",
        "# calculate angular separation for each star\n",
        "angular_separations = distances_SI / 3.5e+21\n",
        "\n",
        "# calculate tangential separation for each star\n",
        "tangential_separations = angular_separations * 3.5e+21\n"
      ],
      "metadata": {
        "id": "zjB1oqiQQP8k"
      },
      "execution_count": null,
      "outputs": []
    },
    {
      "cell_type": "markdown",
      "source": [
        "Find total velocity of each star w.r.t. galaxy centre.\n",
        "\n",
        "Using angle information obtained from velocity components (assume circular orbits) and tangential distance, find the radial distance and hence the total distance of each star w.r.t. galaxy centre.\n",
        "\n",
        "Make a scatter plot of velocity v/s radius."
      ],
      "metadata": {
        "id": "emN4G7aEQazK"
      }
    },
    {
      "cell_type": "code",
      "source": [
        "import numpy as np\n",
        "\n",
        "# tangential velocity component\n",
        "vt = np.sqrt(vt_x**2 + vt_y**2)\n",
        "\n",
        "# total velocity\n",
        "v_total = np.sqrt(vr**2 + vt**2)\n",
        "r = vt*tan(theta)\n",
        "theta = np.arctan2(y, x) - np.arctan2(vt_y, vt_x)\n",
        "theta[theta < 0] += 2*np.pi # ensure angle is between 0 and 2*pi\n",
        "r = vt*np.tan(theta)\n",
        "import matplotlib.pyplot as plt\n",
        "\n",
        "plt.scatter(r, v_total)\n",
        "plt.xlabel('Radius (m)')\n",
        "plt.ylabel('Velocity (m/s)')\n",
        "plt.show()\n"
      ],
      "metadata": {
        "id": "wGkTZ9QHQgpt"
      },
      "execution_count": null,
      "outputs": []
    }
  ]
}